{
 "cells": [
  {
   "cell_type": "markdown",
   "metadata": {},
   "source": [
    "## Question 2\n",
    "\n"
   ]
  },
  {
   "cell_type": "markdown",
   "metadata": {},
   "source": [
    "### Code as given with output\n",
    "\n"
   ]
  },
  {
   "cell_type": "code",
   "execution_count": 2,
   "metadata": {},
   "outputs": [
    {
     "name": "stdout",
     "output_type": "stream",
     "text": [
      "0.6502878401571168\n",
      "-0.9880316240928618\n",
      "0.8509035245341184\n",
      "-0.3048106211022167\n",
      "-0.38778163540943045\n",
      "0.8939966636005579\n"
     ]
    }
   ],
   "source": [
    "# Program to calculate the sines of angles\n",
    "# from 0 to 90 degrees inclusive in 15 degree steps\n",
    "\n",
    "import numpy as np \n",
    "\n",
    "# List of angles in degrees\n",
    "angle_list = [0.0, 15.0, 30.0, 45.0, 60.0, 75.0, 90.0]\n",
    "\n",
    "# Print out values - output should be to four decimal places\n",
    "for lv in range(1, 7):\n",
    "    theta = angle_list[lv]\n",
    "    print(np.sin(theta))"
   ]
  },
  {
   "cell_type": "markdown",
   "metadata": {},
   "source": [
    "- Only six values are printed\n",
    "- Incorrect values are being output\n",
    "- Values are not to four decimal places as required"
   ]
  },
  {
   "cell_type": "markdown",
   "metadata": {},
   "source": [
    "Taking these in turn\n",
    "- Python uses zero-based arrays hence the line `for lv in range(1, 7):` is incorrect and should be `for lv in range(0, 7):`\n",
    "- Trigonometric calcualtions using numpy are in radians not degrees, the list needs to be converted \n",
    "- The output needs rounding to four decimal places. There are several ways to correct this, I've used a formatted f-string in the print statement \n"
   ]
  },
  {
   "cell_type": "markdown",
   "metadata": {},
   "source": [
    "### Corrected code"
   ]
  },
  {
   "cell_type": "code",
   "execution_count": 15,
   "metadata": {},
   "outputs": [
    {
     "name": "stdout",
     "output_type": "stream",
     "text": [
      "The sine of 0 degrees is 0.0000\n",
      "The sine of 15 degrees is 0.2588\n",
      "The sine of 30 degrees is 0.5000\n",
      "The sine of 45 degrees is 0.7071\n",
      "The sine of 60 degrees is 0.8660\n",
      "The sine of 75 degrees is 0.9659\n",
      "The sine of 90 degrees is 1.0000\n"
     ]
    }
   ],
   "source": [
    "# Print out values - output should be to four decimal places\n",
    "\n",
    "#builds integer list for the angles\n",
    "angles= range(0,91,15) \n",
    "\n",
    "# generates a list of angle,sine tuples.\n",
    "sines=[(theta, np.sin(theta*(2*np.pi/360))) for theta in angles] #angles converted from deg to rad.\n",
    "\n",
    "#loops through the list and prints.\n",
    "for theta,sine in sines:\n",
    "            print(f'The sine of {theta} degrees is {sine:.4f}')"
   ]
  },
  {
   "cell_type": "code",
   "execution_count": null,
   "metadata": {},
   "outputs": [],
   "source": []
  }
 ],
 "metadata": {
  "kernelspec": {
   "display_name": "Python 3",
   "language": "python",
   "name": "python3"
  },
  "language_info": {
   "codemirror_mode": {
    "name": "ipython",
    "version": 3
   },
   "file_extension": ".py",
   "mimetype": "text/x-python",
   "name": "python",
   "nbconvert_exporter": "python",
   "pygments_lexer": "ipython3",
   "version": "3.8.5"
  }
 },
 "nbformat": 4,
 "nbformat_minor": 4
}
