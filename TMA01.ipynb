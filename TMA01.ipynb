{
 "cells": [
  {
   "cell_type": "markdown",
   "metadata": {},
   "source": [
    "## Question 2\n",
    "\n"
   ]
  },
  {
   "cell_type": "markdown",
   "metadata": {},
   "source": [
    "### Code as given with output\n",
    "\n"
   ]
  },
  {
   "cell_type": "code",
   "execution_count": 2,
   "metadata": {},
   "outputs": [
    {
     "name": "stdout",
     "output_type": "stream",
     "text": [
      "0.6502878401571168\n",
      "-0.9880316240928618\n",
      "0.8509035245341184\n",
      "-0.3048106211022167\n",
      "-0.38778163540943045\n",
      "0.8939966636005579\n"
     ]
    }
   ],
   "source": [
    "# Program to calculate the sines of angles\n",
    "# from 0 to 90 degrees inclusive in 15 degree steps\n",
    "\n",
    "import numpy as np \n",
    "\n",
    "# List of angles in degrees\n",
    "angle_list = [0.0, 15.0, 30.0, 45.0, 60.0, 75.0, 90.0]\n",
    "\n",
    "# Print out values - output should be to four decimal places\n",
    "for lv in range(1, 7):\n",
    "    theta = angle_list[lv]\n",
    "    print(np.sin(theta))"
   ]
  },
  {
   "cell_type": "markdown",
   "metadata": {},
   "source": [
    "- Only six values are printed\n",
    "- Incorrect values are being output\n",
    "- Values are not to four decimal places as required"
   ]
  },
  {
   "cell_type": "markdown",
   "metadata": {},
   "source": [
    "Taking these in turn\n",
    "- Python uses zero-based arrays hence the line `for lv in range(1, 7):` is incorrect and should be `for lv in range(0, 7):`\n",
    "- Trigonometric calcualtions using numpy are in radians not degrees, the list needs to be converted \n",
    "- The output needs rounding to four decimal places. There are several ways to correct this, I've used a formatted f-string in the print statement \n"
   ]
  },
  {
   "cell_type": "markdown",
   "metadata": {},
   "source": [
    "### Corrected code"
   ]
  },
  {
   "cell_type": "code",
   "execution_count": 6,
   "metadata": {},
   "outputs": [
    {
     "name": "stdout",
     "output_type": "stream",
     "text": [
      "The sine of 0 is 0.0000\n",
      "The sine of π/12.0 is 0.2588\n",
      "The sine of π/6.0 is 0.5000\n",
      "The sine of π/4.0 is 0.7071\n",
      "The sine of π/3.0 is 0.8660\n",
      "The sine of π/2.4 is 0.9659\n",
      "The sine of π/2.0 is 1.0000\n"
     ]
    }
   ],
   "source": [
    "# Print out values - output should be to four decimal places\n",
    "\n",
    "#builds angle array converting degrees to radians\n",
    "angles= np.arange(0.0,91.0, 15.0)*(2*np.pi/360) \n",
    "\n",
    "# generates angle,sine tuples.\n",
    "sines=[(theta, np.sin(theta)) for theta in angles]\n",
    "\n",
    "#does the output stuff\n",
    "for theta,sine in sines:\n",
    "    if theta == 0: #to prevent divide by 0 error\n",
    "        print(f'The sine of 0 is {sine:.4f}')\n",
    "    else:\n",
    "        print(f'The sine of π/{np.pi/theta:.1f} is {sine:.4f}')"
   ]
  },
  {
   "cell_type": "code",
   "execution_count": 7,
   "metadata": {},
   "outputs": [
    {
     "data": {
      "text/plain": [
       "[(0.0, 0.0),\n",
       " (0.2617993877991494, 0.25881904510252074),\n",
       " (0.5235987755982988, 0.49999999999999994),\n",
       " (0.7853981633974483, 0.7071067811865476),\n",
       " (1.0471975511965976, 0.8660254037844386),\n",
       " (1.3089969389957472, 0.9659258262890683),\n",
       " (1.5707963267948966, 1.0)]"
      ]
     },
     "execution_count": 7,
     "metadata": {},
     "output_type": "execute_result"
    }
   ],
   "source": [
    "sines"
   ]
  },
  {
   "cell_type": "code",
   "execution_count": null,
   "metadata": {},
   "outputs": [],
   "source": []
  }
 ],
 "metadata": {
  "kernelspec": {
   "display_name": "Python 3",
   "language": "python",
   "name": "python3"
  },
  "language_info": {
   "codemirror_mode": {
    "name": "ipython",
    "version": 3
   },
   "file_extension": ".py",
   "mimetype": "text/x-python",
   "name": "python",
   "nbconvert_exporter": "python",
   "pygments_lexer": "ipython3",
   "version": "3.8.5"
  }
 },
 "nbformat": 4,
 "nbformat_minor": 4
}
