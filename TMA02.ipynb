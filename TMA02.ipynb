{
 "cells": [
  {
   "cell_type": "markdown",
   "metadata": {},
   "source": [
    "# TMA02"
   ]
  },
  {
   "cell_type": "markdown",
   "metadata": {},
   "source": [
    "### Don't really know what this does yet tbh"
   ]
  },
  {
   "cell_type": "markdown",
   "metadata": {},
   "source": [
    "Boilerplate"
   ]
  },
  {
   "cell_type": "code",
   "execution_count": 1,
   "metadata": {},
   "outputs": [],
   "source": [
    "import matplotlib.pyplot as plt\n",
    "import numpy as np\n",
    "import pandas as pd"
   ]
  },
  {
   "cell_type": "markdown",
   "metadata": {},
   "source": [
    "### Functions"
   ]
  },
  {
   "cell_type": "code",
   "execution_count": 2,
   "metadata": {},
   "outputs": [],
   "source": [
    "#helper functions to do deg/rad conversions\n",
    "\n",
    "def deg_to_rad(deg):\n",
    "    return deg*(2*np.pi/360)\n",
    "\n",
    "def rad_to_deg(rad):\n",
    "    return (rad*360)/(2*np.pi)"
   ]
  },
  {
   "cell_type": "markdown",
   "metadata": {},
   "source": [
    "Implementation of the Compton function\n",
    "\n",
    "$$E_{\\text{out}} = \\frac{E_{\\text{in}}}{1 + \\dfrac{E_{\\text{in}}}{m_{\\text{e}} c^{2}} \\left[1 - \\cos(\\theta) \\right]}$$\n",
    "\n",
    "Note that $m_{e}c^{2}=511.0 \\text{ keV}$\n"
   ]
  },
  {
   "cell_type": "code",
   "execution_count": 3,
   "metadata": {},
   "outputs": [],
   "source": [
    "#implements the Compton forumla as given. Expects angle in radians\n",
    "def compton(e_in,theta):\n",
    "    '''\n",
    "    Returns something\n",
    "\n",
    "            Parameters:\n",
    "                    e_in (float): The input energy in keV\n",
    "                    theta_deg (float): The scattering angle in radians\n",
    "\n",
    "            Returns:\n",
    "                    e_out (float): Result of the Compton formula for the given parameters in keV\n",
    "    '''\n",
    "    denom=1+(e_in/511.0*(1-np.cos(theta)))\n",
    "    e_out=e_in/denom\n",
    "    return e_out\n"
   ]
  },
  {
   "cell_type": "markdown",
   "metadata": {},
   "source": [
    "### Testing\n",
    "\n",
    "A worksheet calculating the expected output for some given inputs was created in excel.  This was compared with the output of the python function.  No idea if this is how to go about it though.\n"
   ]
  },
  {
   "cell_type": "code",
   "execution_count": 4,
   "metadata": {},
   "outputs": [
    {
     "name": "stdout",
     "output_type": "stream",
     "text": [
      "Theta is 0. e_i is 30. Calculated value is 30.0000. Expected value is 30.0000 \n",
      "Theta is 0. e_i is 40. Calculated value is 40.0000. Expected value is 40.0000 \n",
      "Theta is 0. e_i is 50. Calculated value is 50.0000. Expected value is 50.0000 \n",
      "Theta is 0. e_i is 60. Calculated value is 60.0000. Expected value is 60.0000 \n",
      "Theta is 0. e_i is 70. Calculated value is 70.0000. Expected value is 70.0000 \n",
      "Theta is 0. e_i is 80. Calculated value is 80.0000. Expected value is 80.0000 \n",
      "Theta is 0. e_i is 90. Calculated value is 90.0000. Expected value is 90.0000 \n",
      "Theta is 90. e_i is 30. Calculated value is 28.3364. Expected value is 28.3364 \n",
      "Theta is 90. e_i is 40. Calculated value is 37.0962. Expected value is 37.0962 \n",
      "Theta is 90. e_i is 50. Calculated value is 45.5437. Expected value is 45.5437 \n",
      "Theta is 90. e_i is 60. Calculated value is 53.6953. Expected value is 53.6953 \n",
      "Theta is 90. e_i is 70. Calculated value is 61.5663. Expected value is 61.5663 \n",
      "Theta is 90. e_i is 80. Calculated value is 69.1709. Expected value is 69.1709 \n",
      "Theta is 90. e_i is 90. Calculated value is 76.5225. Expected value is 76.5225 \n",
      "Theta is 180. e_i is 30. Calculated value is 26.8476. Expected value is 26.8476 \n",
      "Theta is 180. e_i is 40. Calculated value is 34.5854. Expected value is 34.5854 \n",
      "Theta is 180. e_i is 50. Calculated value is 41.8167. Expected value is 41.8167 \n",
      "Theta is 180. e_i is 60. Calculated value is 48.5895. Expected value is 48.5895 \n",
      "Theta is 180. e_i is 70. Calculated value is 54.9462. Expected value is 54.9462 \n",
      "Theta is 180. e_i is 80. Calculated value is 60.9240. Expected value is 60.9240 \n",
      "Theta is 180. e_i is 90. Calculated value is 66.5557. Expected value is 66.5557 \n"
     ]
    }
   ],
   "source": [
    "df = pd.read_csv('test.csv', usecols=['Theta', 'E_in','e_out'])[['Theta', 'E_in','e_out']] \n",
    "\n",
    "tuples = list(df.itertuples(index=False, name=None))\n",
    "\n",
    "for theta, e_in, e_exp in tuples:        \n",
    "     print(f'Theta is {theta:.0f}. e_i is {e_in}. Calculated value is {compton(e_in,deg_to_rad(theta)):.4f}. \\\n",
    "Expected value is {e_exp:.4f} ')\n"
   ]
  },
  {
   "cell_type": "code",
   "execution_count": 8,
   "metadata": {},
   "outputs": [
    {
     "name": "stdout",
     "output_type": "stream",
     "text": [
      "<class 'list'>\n",
      "<class 'pandas.core.frame.DataFrame'>\n"
     ]
    }
   ],
   "source": [
    "print(type(tuples))\n",
    "print(type(df))"
   ]
  },
  {
   "cell_type": "markdown",
   "metadata": {},
   "source": [
    "### Building lists of inputs and outputs to use for doing the graph\n",
    "\n",
    "We determine the ratio $E_{\\text{out }}/E_{\\text{in}}$ using a list comprehension to make a list that can easly be interated through to draw the required graph.  It's possibly a little complicated and might have been better to use nested for-each loops but it works. "
   ]
  },
  {
   "cell_type": "code",
   "execution_count": 5,
   "metadata": {},
   "outputs": [],
   "source": [
    "#the required angles converted to radians\n",
    "angles =deg_to_rad(np.array([30,60,90,150]))\n",
    "\n",
    "# builds a range of input energies\n",
    "e_in_range=np.array(np.arange(17.4,500, 1))\n",
    "\n",
    "#builds a list of the form [[angle1,[output1,output2.,..],[angle2,[output1,output2.,..],...] \n",
    "#for each angle of interest and for the input range above\n",
    "e_list=[[rad_to_deg(angle),[compton(e_in, angle)/e_in for e_in in e_in_range]] for angle in angles]"
   ]
  },
  {
   "cell_type": "markdown",
   "metadata": {},
   "source": [
    "### Drawing the graph\n"
   ]
  },
  {
   "cell_type": "code",
   "execution_count": 6,
   "metadata": {},
   "outputs": [
    {
     "data": {
      "image/png": "[encoded data removed]",
      "text/plain": [
       "<Figure size 566.929x425.197 with 1 Axes>"
      ]
     },
     "metadata": {
      "needs_background": "light"
     },
     "output_type": "display_data"
    }
   ],
   "source": [
    "plt.rcParams['figure.figsize'] = [20/2.54,15/2.54] #sets graph size\n",
    "\n",
    "fig,ax = plt.subplots()  # Create a figure and axes.\n",
    "ax.set_prop_cycle(color=['red', 'blue', 'green','magenta']) #set a colour cycle for teh plots\n",
    "\n",
    "#iterates through the result array plotting a line for each angle. \n",
    "for angle,ratios in e_list:\n",
    "    ax.plot(e_in_range,ratios, label=str(int(round(angle,0)))+'$^{\\circ}$')  \n",
    "    \n",
    "plt.title(\"Don't know wtf this is for\")\n",
    "plt.xlabel(r'$E_{\\mathrm{in}}\\;\\mathrm{/keV}$')\n",
    "plt.ylabel(r'$E_{\\mathrm{out}}\\;/\\;E_{\\mathrm{in}}\\;\\mathrm{/keV}$')\n",
    "plt.legend()\n",
    "plt.savefig('graph.png')"
   ]
  },
  {
   "cell_type": "code",
   "execution_count": null,
   "metadata": {},
   "outputs": [],
   "source": []
  }
 ],
 "metadata": {
  "kernelspec": {
   "display_name": "Python 3",
   "language": "python",
   "name": "python3"
  },
  "language_info": {
   "codemirror_mode": {
    "name": "ipython",
    "version": 3
   },
   "file_extension": ".py",
   "mimetype": "text/x-python",
   "name": "python",
   "nbconvert_exporter": "python",
   "pygments_lexer": "ipython3",
   "version": "3.8.5"
  }
 },
 "nbformat": 4,
 "nbformat_minor": 4
}
